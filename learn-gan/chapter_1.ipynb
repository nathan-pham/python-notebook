{
  "nbformat": 4,
  "nbformat_minor": 0,
  "metadata": {
    "colab": {
      "name": "chapter-1.ipynb",
      "provenance": [],
      "authorship_tag": "ABX9TyOg7NHCpQjmaEs44NYF7MkB",
      "include_colab_link": true
    },
    "kernelspec": {
      "name": "python3",
      "display_name": "Python 3"
    },
    "language_info": {
      "name": "python"
    }
  },
  "cells": [
    {
      "cell_type": "markdown",
      "metadata": {
        "id": "view-in-github",
        "colab_type": "text"
      },
      "source": [
        "<a href=\"https://colab.research.google.com/github/nathan-pham/python-notebook/blob/main/learn-gan/chapter_1.ipynb\" target=\"_parent\"><img src=\"https://colab.research.google.com/assets/colab-badge.svg\" alt=\"Open In Colab\"/></a>"
      ]
    },
    {
      "cell_type": "code",
      "metadata": {
        "id": "6oVYbVdmevcj"
      },
      "source": [
        "import torch"
      ],
      "execution_count": 1,
      "outputs": []
    },
    {
      "cell_type": "markdown",
      "metadata": {
        "id": "ylB-hX6tfFx5"
      },
      "source": [
        "# Tensors\n",
        "PyTorch: Python tensor processing library  \n",
        "Tensor: number, vector, matrix or n-dimensional array  \n",
        "`dtype` indicates the tensor type (but it doesn't explicitly reveal if it is a matrix or n-dimensional array)\n",
        "\n"
      ]
    },
    {
      "cell_type": "code",
      "metadata": {
        "colab": {
          "base_uri": "https://localhost:8080/"
        },
        "id": "n4g9vJKIfZK5",
        "outputId": "c7a356d5-d8c8-450e-e9f8-84a7842ced78"
      },
      "source": [
        "tensor_number = torch.tensor(4.0)\n",
        "print(tensor_number) # floating point tensor\n",
        "print(tensor_number.dtype) # verify torch.float32 type"
      ],
      "execution_count": 3,
      "outputs": [
        {
          "output_type": "stream",
          "text": [
            "tensor(4.)\n",
            "torch.float32\n"
          ],
          "name": "stdout"
        }
      ]
    },
    {
      "cell_type": "code",
      "metadata": {
        "colab": {
          "base_uri": "https://localhost:8080/"
        },
        "id": "30dlPluBf0Kt",
        "outputId": "be689e63-3e57-40fb-957a-fe6493c4b3ca"
      },
      "source": [
        "# vector\n",
        "tensor_vector = torch.tensor([0, 0, 1])\n",
        "print(tensor_vector)\n",
        "print(tensor_vector.dtype)"
      ],
      "execution_count": 4,
      "outputs": [
        {
          "output_type": "stream",
          "text": [
            "tensor([0, 0, 1])\n",
            "torch.int64\n"
          ],
          "name": "stdout"
        }
      ]
    },
    {
      "cell_type": "markdown",
      "metadata": {
        "id": "K1N4klFmgHpx"
      },
      "source": [
        "all properties in a tensor will be given the same type"
      ]
    },
    {
      "cell_type": "code",
      "metadata": {
        "colab": {
          "base_uri": "https://localhost:8080/"
        },
        "id": "BTUC3e7Wf9jZ",
        "outputId": "ba837d43-d6e5-444c-9cf6-3fa531447227"
      },
      "source": [
        "# matrix\n",
        "tensor_matrix = torch.tensor([\n",
        "  [1, 0, 0],\n",
        "  [0, 1, 0],\n",
        "  [0, 0, 1]\n",
        "])\n",
        "print(tensor_matrix)\n",
        "print(tensor_vector.dtype)"
      ],
      "execution_count": 6,
      "outputs": [
        {
          "output_type": "stream",
          "text": [
            "tensor([[[1, 0, 0]],\n",
            "\n",
            "        [[0, 1, 0]],\n",
            "\n",
            "        [[0, 0, 1]]])\n",
            "torch.int64\n"
          ],
          "name": "stdout"
        }
      ]
    }
  ]
}