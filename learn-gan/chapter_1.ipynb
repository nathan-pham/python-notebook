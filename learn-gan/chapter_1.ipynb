{
  "nbformat": 4,
  "nbformat_minor": 0,
  "metadata": {
    "colab": {
      "name": "chapter-1.ipynb",
      "provenance": [],
      "collapsed_sections": [],
      "authorship_tag": "ABX9TyMqMfVoSHs4bGhbwXG26NER",
      "include_colab_link": true
    },
    "kernelspec": {
      "name": "python3",
      "display_name": "Python 3"
    },
    "language_info": {
      "name": "python"
    }
  },
  "cells": [
    {
      "cell_type": "markdown",
      "metadata": {
        "id": "view-in-github",
        "colab_type": "text"
      },
      "source": [
        "<a href=\"https://colab.research.google.com/github/nathan-pham/python-notebook/blob/main/learn-gan/chapter_1.ipynb\" target=\"_parent\"><img src=\"https://colab.research.google.com/assets/colab-badge.svg\" alt=\"Open In Colab\"/></a>"
      ]
    },
    {
      "cell_type": "code",
      "metadata": {
        "id": "6oVYbVdmevcj"
      },
      "source": [
        "import torch"
      ],
      "execution_count": 1,
      "outputs": []
    },
    {
      "cell_type": "markdown",
      "metadata": {
        "id": "ylB-hX6tfFx5"
      },
      "source": [
        "# Tensors\n",
        "PyTorch: Python tensor processing library  \n",
        "Tensor: number, vector, matrix or n-dimensional array  \n",
        "`dtype`: tensor type (but it doesn't explicitly reveal if it is a matrix or n-dimensional array)  \n",
        "`shape`: length of tensor along each dimension  \n",
        "\n"
      ]
    },
    {
      "cell_type": "markdown",
      "metadata": {
        "id": "rHXgqwx4iBh2"
      },
      "source": [
        "log tensor utility function"
      ]
    },
    {
      "cell_type": "code",
      "metadata": {
        "id": "n4g9vJKIfZK5"
      },
      "source": [
        "def log_tensor(args, label):\n",
        "  t = torch.tensor(args)\n",
        "  print(\"tensor type:\", label)\n",
        "  print(t)\n",
        "  print(t.dtype)\n",
        "  print(t.shape)\n",
        "  print(\"\\n\")"
      ],
      "execution_count": 15,
      "outputs": []
    },
    {
      "cell_type": "markdown",
      "metadata": {
        "id": "ni87zlmqiGXW"
      },
      "source": [
        "logging different tensor types"
      ]
    },
    {
      "cell_type": "code",
      "metadata": {
        "colab": {
          "base_uri": "https://localhost:8080/"
        },
        "id": "HhFedFiCiJCk",
        "outputId": "90ba5946-21ad-4cad-e27a-668e179fe7d6"
      },
      "source": [
        "# floating point number\n",
        "log_tensor(4.0, \"number\")\n",
        "\n",
        "# vector \n",
        "log_tensor([0, 0, 1], \"vector\")\n",
        "\n",
        "# matrix\n",
        "log_tensor([\n",
        "  [1, 0, 0],\n",
        "  [0, 1, 0],\n",
        "  [0, 0, 1]\n",
        "], \"matrix\")"
      ],
      "execution_count": 16,
      "outputs": [
        {
          "output_type": "stream",
          "text": [
            "tensor type: number\n",
            "tensor(4.)\n",
            "torch.float32\n",
            "torch.Size([])\n",
            "\n",
            "\n",
            "tensor type: vector\n",
            "tensor([0, 0, 1])\n",
            "torch.int64\n",
            "torch.Size([3])\n",
            "\n",
            "\n",
            "tensor type: matrix\n",
            "tensor([[1, 0, 0],\n",
            "        [0, 1, 0],\n",
            "        [0, 0, 1]])\n",
            "torch.int64\n",
            "torch.Size([3, 3])\n",
            "\n",
            "\n"
          ],
          "name": "stdout"
        }
      ]
    },
    {
      "cell_type": "markdown",
      "metadata": {
        "id": "K1N4klFmgHpx"
      },
      "source": [
        "all properties in a tensor will be given the same type  \n",
        "floating point tensors are preferred because matrix operations don't typically lead to integer results"
      ]
    }
  ]
}